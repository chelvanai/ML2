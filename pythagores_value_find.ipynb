{
  "nbformat": 4,
  "nbformat_minor": 0,
  "metadata": {
    "colab": {
      "provenance": []
    },
    "kernelspec": {
      "name": "python3",
      "display_name": "Python 3"
    },
    "language_info": {
      "name": "python"
    }
  },
  "cells": [
    {
      "cell_type": "code",
      "execution_count": 24,
      "metadata": {
        "id": "sZGaQGmt72YE"
      },
      "outputs": [],
      "source": [
        "import torch\n",
        "import torch.nn as nn\n",
        "from torch.utils.data import DataLoader, TensorDataset"
      ]
    },
    {
      "cell_type": "code",
      "source": [
        "num_samples = 1000\n",
        "a = torch.randint(1, 1001, (num_samples, 1)).float()\n",
        "b = torch.randint(1, 1001, (num_samples, 1)).float()"
      ],
      "metadata": {
        "id": "EMg3IwAn720S"
      },
      "execution_count": 25,
      "outputs": []
    },
    {
      "cell_type": "code",
      "source": [
        "a_mean, a_std = a.mean(), a.std()\n",
        "b_mean, b_std = b.mean(), b.std()\n",
        "\n",
        "def normalize_data(a, b):\n",
        "    a_normalized = (a - a_mean) / a_std\n",
        "    b_normalized = (b - b_mean) / b_std\n",
        "    return a_normalized, b_normalized\n",
        "\n",
        "a_normalized, b_normalized = normalize_data(a, b)"
      ],
      "metadata": {
        "id": "7r6tCpnq723G"
      },
      "execution_count": 26,
      "outputs": []
    },
    {
      "cell_type": "code",
      "source": [
        "input_features = torch.cat((a_normalized, b_normalized), dim=1)\n",
        "target = torch.sqrt(a**2 + b**2)"
      ],
      "metadata": {
        "id": "YaTH8VUn726F"
      },
      "execution_count": 27,
      "outputs": []
    },
    {
      "cell_type": "code",
      "source": [
        "dataset = TensorDataset(input_features, target)\n",
        "train_loader = DataLoader(dataset, batch_size=32, shuffle=True)"
      ],
      "metadata": {
        "id": "QcWKlH8V729H"
      },
      "execution_count": 28,
      "outputs": []
    },
    {
      "cell_type": "code",
      "source": [
        "class NeuralNetwork(nn.Module):\n",
        "    def __init__(self):\n",
        "        super(NeuralNetwork, self).__init__()\n",
        "        self.linear1 = nn.Linear(2, 64)\n",
        "        self.relu = nn.ReLU()\n",
        "        self.linear2 = nn.Linear(64, 1)\n",
        "\n",
        "    def forward(self, x):\n",
        "        x = self.linear1(x)\n",
        "        x = self.relu(x)\n",
        "        x = self.linear2(x)\n",
        "        return x"
      ],
      "metadata": {
        "id": "bgFJweaI72_3"
      },
      "execution_count": 29,
      "outputs": []
    },
    {
      "cell_type": "code",
      "source": [
        "model = NeuralNetwork()\n",
        "criterion = nn.MSELoss()\n",
        "optimizer = torch.optim.Adam(model.parameters(), lr=0.001)\n",
        "\n",
        "for epoch in range(1000):\n",
        "    for inputs, labels in train_loader:\n",
        "        outputs = model(inputs)\n",
        "        loss = criterion(outputs, labels)\n",
        "        optimizer.zero_grad()\n",
        "        loss.backward()\n",
        "        optimizer.step()\n",
        "\n",
        "    if (epoch+1) % 100 == 0:\n",
        "        print(f'Epoch [{epoch+1}/{1000}], Loss: {loss.item():.4f}')\n"
      ],
      "metadata": {
        "colab": {
          "base_uri": "https://localhost:8080/"
        },
        "id": "r6hAsuGD73C4",
        "outputId": "2d813f7a-5e9d-464d-ebfc-50e2d6e879ef"
      },
      "execution_count": 30,
      "outputs": [
        {
          "output_type": "stream",
          "name": "stdout",
          "text": [
            "Epoch [100/1000], Loss: 6895.3965\n",
            "Epoch [200/1000], Loss: 134.8116\n",
            "Epoch [300/1000], Loss: 31.2078\n",
            "Epoch [400/1000], Loss: 4.9897\n",
            "Epoch [500/1000], Loss: 1.1150\n",
            "Epoch [600/1000], Loss: 0.3533\n",
            "Epoch [700/1000], Loss: 0.0995\n",
            "Epoch [800/1000], Loss: 0.0643\n",
            "Epoch [900/1000], Loss: 0.0125\n",
            "Epoch [1000/1000], Loss: 0.2008\n"
          ]
        }
      ]
    },
    {
      "cell_type": "code",
      "source": [
        "def absolute_percentage_error(actual, predicted):\n",
        "    if actual == 0:\n",
        "        return 0\n",
        "    ape = abs((actual - predicted) / actual) * 100\n",
        "    return ape"
      ],
      "metadata": {
        "id": "y26vwD3X9a_N"
      },
      "execution_count": 31,
      "outputs": []
    },
    {
      "cell_type": "code",
      "source": [
        "with torch.no_grad():\n",
        "    test_a = torch.tensor([[40.0]])\n",
        "    test_b = torch.tensor([[50.0]])\n",
        "\n",
        "    # Normalize the test data\n",
        "    test_a_normalized = (test_a - a_mean) / a_std\n",
        "    test_b_normalized = (test_b - b_mean) / b_std\n",
        "\n",
        "    test_inputs = torch.cat([test_a_normalized, test_b_normalized], dim=1)\n",
        "\n",
        "    predicted = model(test_inputs)\n",
        "\n",
        "    # Since we didn't normalize the output, no need to denormalize the prediction\n",
        "    actual = torch.sqrt(test_a**2 + test_b**2)\n",
        "\n",
        "    predicted_np = predicted.numpy()[0][0]\n",
        "    actual_np = actual.numpy()[0][0]\n",
        "    print(f\"Predicted Square Root: {predicted_np:.4f}, True Square Root: {actual_np:.4f}\")\n",
        "    error = absolute_percentage_error(predicted_np, actual_np)\n",
        "    print(f\"Absolute Percentage Error: {error:.2f}%\")"
      ],
      "metadata": {
        "colab": {
          "base_uri": "https://localhost:8080/"
        },
        "id": "MF181jSy73GH",
        "outputId": "a2fa5d6c-fd8a-4b00-8b6b-7a655c40e863"
      },
      "execution_count": 32,
      "outputs": [
        {
          "output_type": "stream",
          "name": "stdout",
          "text": [
            "Predicted Square Root: 64.1262, True Square Root: 64.0312\n",
            "Absolute Percentage Error: 0.15%\n"
          ]
        }
      ]
    },
    {
      "cell_type": "code",
      "source": [],
      "metadata": {
        "id": "7eRm7yj973JH"
      },
      "execution_count": 32,
      "outputs": []
    },
    {
      "cell_type": "code",
      "source": [],
      "metadata": {
        "id": "91ziOytu73Mo"
      },
      "execution_count": 32,
      "outputs": []
    },
    {
      "cell_type": "code",
      "source": [],
      "metadata": {
        "id": "_ce9tN2x73P1"
      },
      "execution_count": 32,
      "outputs": []
    },
    {
      "cell_type": "code",
      "source": [],
      "metadata": {
        "id": "Z4g2UVMg73TG"
      },
      "execution_count": 32,
      "outputs": []
    }
  ]
}