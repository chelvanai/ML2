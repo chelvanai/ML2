{
  "nbformat": 4,
  "nbformat_minor": 0,
  "metadata": {
    "colab": {
      "provenance": [],
      "gpuType": "T4"
    },
    "kernelspec": {
      "name": "python3",
      "display_name": "Python 3"
    },
    "language_info": {
      "name": "python"
    },
    "accelerator": "GPU"
  },
  "cells": [
    {
      "cell_type": "code",
      "execution_count": 1,
      "metadata": {
        "colab": {
          "base_uri": "https://localhost:8080/"
        },
        "id": "Cwl_68c4z0EK",
        "outputId": "327aa2f1-f752-4b2c-db00-acf404dc1017"
      },
      "outputs": [
        {
          "output_type": "stream",
          "name": "stdout",
          "text": [
            "Installing Julia 1.8.5 on the current Colab Runtime...\n",
            "2023-11-09 11:20:13 URL:https://julialang-s3.julialang.org/bin/linux/x64/1.8/julia-1.8.5-linux-x86_64.tar.gz [130873886/130873886] -> \"/tmp/julia.tar.gz\" [1]\n",
            "Installing PyCall.jl...\n",
            "\u001b[32m\u001b[1m  Installing\u001b[22m\u001b[39m known registries into `~/.julia`\n",
            "\u001b[?25h\u001b[2K\u001b[32m\u001b[1m    Updating\u001b[22m\u001b[39m registry at `~/.julia/registries/General.toml`\n",
            "\u001b[32m\u001b[1m   Resolving\u001b[22m\u001b[39m package versions...\n",
            "\u001b[S\u001b[1A\u001b[2K\u001b[1G\u001b[32m\u001b[1m   Installed\u001b[22m\u001b[39m Conda ─────────── v1.9.1\n",
            "\u001b[S\u001b[1A\u001b[2K\u001b[1G\u001b[32m\u001b[1m   Installed\u001b[22m\u001b[39m VersionParsing ── v1.3.0\n",
            "\u001b[S\u001b[1A\u001b[2K\u001b[1G\u001b[32m\u001b[1m   Installed\u001b[22m\u001b[39m Preferences ───── v1.4.1\n",
            "\u001b[S\u001b[1A\u001b[2K\u001b[1G\u001b[32m\u001b[1m   Installed\u001b[22m\u001b[39m MacroTools ────── v0.5.11\n",
            "\u001b[S\u001b[1A\u001b[2K\u001b[1G\u001b[32m\u001b[1m   Installed\u001b[22m\u001b[39m Parsers ───────── v2.7.2\n",
            "\u001b[S\u001b[1A\u001b[2K\u001b[1G\u001b[32m\u001b[1m   Installed\u001b[22m\u001b[39m JSON ──────────── v0.21.4\n",
            "\u001b[S\u001b[1A\u001b[2K\u001b[1G\u001b[32m\u001b[1m   Installed\u001b[22m\u001b[39m PrecompileTools ─ v1.2.0\n",
            "\u001b[S\u001b[1A\u001b[2K\u001b[1G\u001b[32m\u001b[1m   Installed\u001b[22m\u001b[39m PyCall ────────── v1.96.2\n",
            "\u001b[?25h\u001b[2K\u001b[32m\u001b[1m    Updating\u001b[22m\u001b[39m `~/.julia/environments/v1.8/Project.toml`\n",
            " \u001b[90m [438e738f] \u001b[39m\u001b[92m+ PyCall v1.96.2\u001b[39m\n",
            "\u001b[32m\u001b[1m    Updating\u001b[22m\u001b[39m `~/.julia/environments/v1.8/Manifest.toml`\n",
            " \u001b[90m [8f4d0f93] \u001b[39m\u001b[92m+ Conda v1.9.1\u001b[39m\n",
            " \u001b[90m [682c06a0] \u001b[39m\u001b[92m+ JSON v0.21.4\u001b[39m\n",
            " \u001b[90m [1914dd2f] \u001b[39m\u001b[92m+ MacroTools v0.5.11\u001b[39m\n",
            " \u001b[90m [69de0a69] \u001b[39m\u001b[92m+ Parsers v2.7.2\u001b[39m\n",
            " \u001b[90m [aea7be01] \u001b[39m\u001b[92m+ PrecompileTools v1.2.0\u001b[39m\n",
            " \u001b[90m [21216c6a] \u001b[39m\u001b[92m+ Preferences v1.4.1\u001b[39m\n",
            " \u001b[90m [438e738f] \u001b[39m\u001b[92m+ PyCall v1.96.2\u001b[39m\n",
            " \u001b[90m [81def892] \u001b[39m\u001b[92m+ VersionParsing v1.3.0\u001b[39m\n",
            " \u001b[90m [0dad84c5] \u001b[39m\u001b[92m+ ArgTools v1.1.1\u001b[39m\n",
            " \u001b[90m [56f22d72] \u001b[39m\u001b[92m+ Artifacts\u001b[39m\n",
            " \u001b[90m [2a0f44e3] \u001b[39m\u001b[92m+ Base64\u001b[39m\n",
            " \u001b[90m [ade2ca70] \u001b[39m\u001b[92m+ Dates\u001b[39m\n",
            " \u001b[90m [f43a241f] \u001b[39m\u001b[92m+ Downloads v1.6.0\u001b[39m\n",
            " \u001b[90m [7b1f6079] \u001b[39m\u001b[92m+ FileWatching\u001b[39m\n",
            " \u001b[90m [b27032c2] \u001b[39m\u001b[92m+ LibCURL v0.6.3\u001b[39m\n",
            " \u001b[90m [8f399da3] \u001b[39m\u001b[92m+ Libdl\u001b[39m\n",
            " \u001b[90m [37e2e46d] \u001b[39m\u001b[92m+ LinearAlgebra\u001b[39m\n",
            " \u001b[90m [d6f4376e] \u001b[39m\u001b[92m+ Markdown\u001b[39m\n",
            " \u001b[90m [a63ad114] \u001b[39m\u001b[92m+ Mmap\u001b[39m\n",
            " \u001b[90m [ca575930] \u001b[39m\u001b[92m+ NetworkOptions v1.2.0\u001b[39m\n",
            " \u001b[90m [de0858da] \u001b[39m\u001b[92m+ Printf\u001b[39m\n",
            " \u001b[90m [9a3f8284] \u001b[39m\u001b[92m+ Random\u001b[39m\n",
            " \u001b[90m [ea8e919c] \u001b[39m\u001b[92m+ SHA v0.7.0\u001b[39m\n",
            " \u001b[90m [9e88b42a] \u001b[39m\u001b[92m+ Serialization\u001b[39m\n",
            " \u001b[90m [fa267f1f] \u001b[39m\u001b[92m+ TOML v1.0.0\u001b[39m\n",
            " \u001b[90m [cf7118a7] \u001b[39m\u001b[92m+ UUIDs\u001b[39m\n",
            " \u001b[90m [4ec0a83e] \u001b[39m\u001b[92m+ Unicode\u001b[39m\n",
            " \u001b[90m [e66e0078] \u001b[39m\u001b[92m+ CompilerSupportLibraries_jll v1.0.1+0\u001b[39m\n",
            " \u001b[90m [deac9b47] \u001b[39m\u001b[92m+ LibCURL_jll v7.84.0+0\u001b[39m\n",
            " \u001b[90m [29816b5a] \u001b[39m\u001b[92m+ LibSSH2_jll v1.10.2+0\u001b[39m\n",
            " \u001b[90m [c8ffd9c3] \u001b[39m\u001b[92m+ MbedTLS_jll v2.28.0+0\u001b[39m\n",
            " \u001b[90m [14a3606d] \u001b[39m\u001b[92m+ MozillaCACerts_jll v2022.2.1\u001b[39m\n",
            " \u001b[90m [4536629a] \u001b[39m\u001b[92m+ OpenBLAS_jll v0.3.20+0\u001b[39m\n",
            " \u001b[90m [83775a58] \u001b[39m\u001b[92m+ Zlib_jll v1.2.12+3\u001b[39m\n",
            " \u001b[90m [8e850b90] \u001b[39m\u001b[92m+ libblastrampoline_jll v5.1.1+0\u001b[39m\n",
            " \u001b[90m [8e850ede] \u001b[39m\u001b[92m+ nghttp2_jll v1.48.0+0\u001b[39m\n",
            "\u001b[?25l\u001b[S\u001b[1A\u001b[2K\u001b[1G\u001b[32m\u001b[1m    Building\u001b[22m\u001b[39m Conda ─→ `~/.julia/scratchspaces/44cfe95a-1eb2-52ea-b672-e2afdf69b78f/8c86e48c0db1564a1d49548d3515ced5d604c408/build.log`\n",
            "\u001b[S\u001b[1A\u001b[2K\u001b[1G\u001b[32m\u001b[1m    Building\u001b[22m\u001b[39m PyCall → `~/.julia/scratchspaces/44cfe95a-1eb2-52ea-b672-e2afdf69b78f/1cb97fa63a3629c6d892af4f76fcc4ad8191837c/build.log`\n",
            "\u001b[?25h\u001b[2K\u001b[?25l\u001b[S\u001b[1A\u001b[2K\u001b[1G\u001b[32m\u001b[1m    Building\u001b[22m\u001b[39m Conda ─→ `~/.julia/scratchspaces/44cfe95a-1eb2-52ea-b672-e2afdf69b78f/8c86e48c0db1564a1d49548d3515ced5d604c408/build.log`\n",
            "\u001b[S\u001b[1A\u001b[2K\u001b[1G\u001b[32m\u001b[1m    Building\u001b[22m\u001b[39m PyCall → `~/.julia/scratchspaces/44cfe95a-1eb2-52ea-b672-e2afdf69b78f/1cb97fa63a3629c6d892af4f76fcc4ad8191837c/build.log`\n",
            "\u001b[?25h\u001b[2KSuccess\n"
          ]
        },
        {
          "output_type": "execute_result",
          "data": {
            "text/plain": []
          },
          "metadata": {},
          "execution_count": 1
        }
      ],
      "source": [
        "%%shell\n",
        "set -e\n",
        "\n",
        "#---------------------------------------------------#\n",
        "JULIA_VERSION=\"1.8.5\"\n",
        "export JULIA_PKG_PRECOMPILE_AUTO=0\n",
        "#---------------------------------------------------#\n",
        "\n",
        "if [ -z `which julia` ]; then\n",
        "  # Install Julia\n",
        "  JULIA_VER=`cut -d '.' -f -2 <<< \"$JULIA_VERSION\"`\n",
        "  echo \"Installing Julia $JULIA_VERSION on the current Colab Runtime...\"\n",
        "  BASE_URL=\"https://julialang-s3.julialang.org/bin/linux/x64\"\n",
        "  URL=\"$BASE_URL/$JULIA_VER/julia-$JULIA_VERSION-linux-x86_64.tar.gz\"\n",
        "  wget -nv $URL -O /tmp/julia.tar.gz # -nv means \"not verbose\"\n",
        "  tar -x -f /tmp/julia.tar.gz -C /usr/local --strip-components 1\n",
        "  rm /tmp/julia.tar.gz\n",
        "\n",
        "  echo \"Installing PyCall.jl...\"\n",
        "  julia -e 'using Pkg; Pkg.add(\"PyCall\"); Pkg.build(\"PyCall\")'\n",
        "  julia -e 'println(\"Success\")'\n",
        "\n",
        "fi"
      ]
    },
    {
      "cell_type": "code",
      "source": [
        "%pip install -Uq pysr pytorch_lightning"
      ],
      "metadata": {
        "colab": {
          "base_uri": "https://localhost:8080/"
        },
        "id": "6ijRvqt1z1o7",
        "outputId": "1abf314b-01e4-4a2a-8307-52559ce4ccc8"
      },
      "execution_count": 2,
      "outputs": [
        {
          "output_type": "stream",
          "name": "stdout",
          "text": [
            "\u001b[2K     \u001b[90m━━━━━━━━━━━━━━━━━━━━━━━━━━━━━━━━━━━━━━━━\u001b[0m \u001b[32m72.0/72.0 kB\u001b[0m \u001b[31m2.3 MB/s\u001b[0m eta \u001b[36m0:00:00\u001b[0m\n",
            "\u001b[2K     \u001b[90m━━━━━━━━━━━━━━━━━━━━━━━━━━━━━━━━━━━━━━━━\u001b[0m \u001b[32m776.3/776.3 kB\u001b[0m \u001b[31m9.4 MB/s\u001b[0m eta \u001b[36m0:00:00\u001b[0m\n",
            "\u001b[2K     \u001b[90m━━━━━━━━━━━━━━━━━━━━━━━━━━━━━━━━━━━━━━━━\u001b[0m \u001b[32m68.7/68.7 kB\u001b[0m \u001b[31m8.5 MB/s\u001b[0m eta \u001b[36m0:00:00\u001b[0m\n",
            "\u001b[2K     \u001b[90m━━━━━━━━━━━━━━━━━━━━━━━━━━━━━━━━━━━━━━━━\u001b[0m \u001b[32m805.2/805.2 kB\u001b[0m \u001b[31m14.2 MB/s\u001b[0m eta \u001b[36m0:00:00\u001b[0m\n",
            "\u001b[?25h"
          ]
        }
      ]
    },
    {
      "cell_type": "code",
      "source": [
        "from julia import Julia\n",
        "\n",
        "julia = Julia(compiled_modules=False, threads=\"auto\")\n",
        "from julia import Main\n",
        "from julia.tools import redirect_output_streams\n",
        "\n",
        "redirect_output_streams()"
      ],
      "metadata": {
        "id": "Bp3THMxgz1r7"
      },
      "execution_count": 3,
      "outputs": []
    },
    {
      "cell_type": "code",
      "source": [
        "import pysr\n",
        "\n",
        "# We don't precompile in colab because compiled modules are incompatible static Python libraries:\n",
        "pysr.install(precompile=False)"
      ],
      "metadata": {
        "colab": {
          "base_uri": "https://localhost:8080/"
        },
        "id": "mJB3-OWlz1u6",
        "outputId": "cfe46a5f-9d57-4823-f9dd-b9c09d237979"
      },
      "execution_count": 4,
      "outputs": [
        {
          "output_type": "stream",
          "name": "stdout",
          "text": [
            "Julia Version 1.8.5\n",
            "Commit 17cfb8e65ea (2023-01-08 06:45 UTC)\n",
            "Platform Info:\n",
            "  OS: Linux (x86_64-linux-gnu)\n",
            "      Ubuntu 22.04.2 LTS\n",
            "  uname: Linux 5.15.120+ #1 SMP Wed Aug 30 11:19:59 UTC 2023 x86_64 x86_64\n",
            "  CPU: Intel(R) Xeon(R) CPU @ 2.20GHz: \n",
            "              speed         user         nice          sys         idle          irq\n",
            "       #1  2199 MHz        572 s          0 s        168 s       2040 s          0 s\n",
            "       #2  2199 MHz        692 s          0 s        177 s       1906 s          0 s\n",
            "  Memory: 12.6783447265625 GB (11580.0859375 MB free)\n",
            "  Uptime: 287.08 sec\n",
            "  Load Avg:  0.53  0.51  0.25\n",
            "  WORD_SIZE: 64\n",
            "  LIBM: libopenlibm\n",
            "  LLVM: libLLVM-13.0.1 (ORCJIT, broadwell)\n",
            "  Threads: 1 on 2 virtual cores\n",
            "Environment:\n",
            "  LD_LIBRARY_PATH = /usr/lib64-nvidia\n",
            "  JULIA_PROJECT = @pysr-0.16.3\n",
            "  JULIA_PKG_PRECOMPILE_AUTO = 0\n",
            "  TCLLIBPATH = /usr/share/tcltk/tcllib1.20\n",
            "  HOME = /root\n",
            "  PYTHONPATH = /env/python\n",
            "  LIBRARY_PATH = /usr/local/cuda/lib64/stubs\n",
            "  PATH = /opt/bin:/usr/local/nvidia/bin:/usr/local/cuda/bin:/usr/local/sbin:/usr/local/bin:/usr/sbin:/usr/bin:/sbin:/bin:/tools/node/bin:/tools/google-cloud-sdk/bin\n",
            "  COLAB_DEBUG_ADAPTER_MUX_PATH = /usr/local/bin/dap_multiplexer\n",
            "  TERM = xterm-color\n"
          ]
        },
        {
          "output_type": "stream",
          "name": "stderr",
          "text": [
            "[ Info: Julia version info\n",
            "[ Info: Julia executable: /usr/local/bin/julia\n",
            "[ Info: Trying to import PyCall...\n",
            "┌ Info: PyCall is already installed and compatible with Python executable.\n",
            "│ \n",
            "│ PyCall:\n",
            "│     python: /usr/bin/python3\n",
            "│     libpython: /usr/lib/x86_64-linux-gnu/libpython3.10.so.1.0\n",
            "│ Python:\n",
            "│     python: /usr/bin/python3\n",
            "└     libpython: \n",
            "    Updating registry at `~/.julia/registries/General.toml`\n",
            "     Cloning git-repo `https://github.com/MilesCranmer/SymbolicRegression.jl`\n",
            "    Updating registry at `~/.julia/registries/General.toml`\n",
            "   Resolving package versions...\n",
            "   Installed Tricks ─────────────────────────── v0.1.8\n",
            "   Installed IrrationalConstants ────────────── v0.2.2\n",
            "   Installed ScientificTypesBase ────────────── v3.0.0\n",
            "   Installed Adapt ──────────────────────────── v3.7.1\n",
            "   Installed DiffRules ──────────────────────── v1.15.1\n",
            "   Installed SIMDTypes ──────────────────────── v0.1.0\n",
            "   Installed BitTwiddlingConvenienceFunctions ─ v0.1.5\n",
            "   Installed DynamicExpressions ─────────────── v0.13.1\n",
            "   Installed LayoutPointers ─────────────────── v0.1.15\n",
            "   Installed PositiveFactorizations ─────────── v0.2.4\n",
            "   Installed DiffResults ────────────────────── v1.1.0\n",
            "   Installed MLJModelInterface ──────────────── v1.9.3\n",
            "   Installed CpuId ──────────────────────────── v0.3.1\n",
            "   Installed StatisticalTraits ──────────────── v3.2.0\n",
            "   Installed OffsetArrays ───────────────────── v1.12.10\n",
            "   Installed VectorizationBase ──────────────── v0.21.64\n",
            "   Installed CPUSummary ─────────────────────── v0.2.4\n",
            "   Installed IfElse ─────────────────────────── v0.1.1\n",
            "   Installed Optim ──────────────────────────── v1.7.6\n",
            "   Installed DataAPI ────────────────────────── v1.15.0\n",
            "   Installed Setfield ───────────────────────── v1.1.1\n",
            "   Installed JLLWrappers ────────────────────── v1.5.0\n",
            "   Installed SpecialFunctions ───────────────── v2.3.1\n",
            "   Installed StaticArraysCore ───────────────── v1.4.2\n",
            "   Installed HostCPUFeatures ────────────────── v0.1.16\n",
            "   Installed NaNMath ────────────────────────── v1.0.2\n",
            "   Installed OrderedCollections ─────────────── v1.6.2\n",
            "   Installed ConstructionBase ───────────────── v1.5.4\n",
            "   Installed ThreadingUtilities ─────────────── v0.5.2\n",
            "   Installed LoopVectorization ──────────────── v0.12.166\n",
            "   Installed ManualMemory ───────────────────── v0.1.8\n",
            "   Installed PolyesterWeave ─────────────────── v0.2.1\n",
            "   Installed StaticArrays ───────────────────── v1.6.5\n",
            "   Installed ForwardDiff ────────────────────── v0.10.36\n",
            "   Installed NLSolversBase ──────────────────── v7.8.3\n",
            "   Installed ChainRulesCore ─────────────────── v1.18.0\n",
            "   Installed FillArrays ─────────────────────── v1.7.0\n",
            "   Installed LineSearches ───────────────────── v7.2.0\n",
            "   Installed CommonSubexpressions ───────────── v0.3.0\n",
            "   Installed LogExpFunctions ────────────────── v0.3.26\n",
            "   Installed ArrayInterface ─────────────────── v7.5.1\n",
            "   Installed Reexport ───────────────────────── v1.2.2\n",
            "   Installed DataStructures ─────────────────── v0.18.15\n",
            "   Installed Requires ───────────────────────── v1.3.0\n",
            "   Installed ProgressBars ───────────────────── v1.5.1\n",
            "   Installed PackageExtensionCompat ─────────── v1.0.2\n",
            "   Installed SLEEFPirates ───────────────────── v0.6.42\n",
            "   Installed StatsAPI ───────────────────────── v1.7.0\n",
            "   Installed Static ─────────────────────────── v0.8.8\n",
            "   Installed ClusterManagers ────────────────── v0.4.5\n",
            "   Installed CloseOpenIntervals ─────────────── v0.1.12\n",
            "   Installed Compat ─────────────────────────── v4.10.0\n",
            "   Installed OpenSpecFun_jll ────────────────── v0.5.5+0\n",
            "   Installed InverseFunctions ───────────────── v0.1.12\n",
            "   Installed UnPack ─────────────────────────── v1.0.2\n",
            "   Installed DynamicQuantities ──────────────── v0.6.3\n",
            "   Installed StaticArrayInterface ───────────── v1.4.1\n",
            "   Installed StatsBase ──────────────────────── v0.34.2\n",
            "   Installed Parameters ─────────────────────── v0.12.3\n",
            "   Installed ChangesOfVariables ─────────────── v0.1.8\n",
            "   Installed Missings ───────────────────────── v1.1.0\n",
            "   Installed DocStringExtensions ────────────── v0.9.3\n",
            "   Installed LossFunctions ──────────────────── v0.11.1\n",
            "   Installed FiniteDiff ─────────────────────── v2.21.1\n",
            "   Installed SortingAlgorithms ──────────────── v1.2.0\n",
            "    Updating `~/.julia/environments/v1.8/Project.toml`\n",
            "  [34f1f09b] + ClusterManagers v0.4.5\n",
            "  [8254be44] + SymbolicRegression v0.22.4 `https://github.com/MilesCranmer/SymbolicRegression.jl#v0.22.4`\n",
            "    Updating `~/.julia/environments/v1.8/Manifest.toml`\n",
            "  [79e6a3ab] + Adapt v3.7.1\n",
            "  [4fba245c] + ArrayInterface v7.5.1\n",
            "  [62783981] + BitTwiddlingConvenienceFunctions v0.1.5\n",
            "  [2a0fbf3d] + CPUSummary v0.2.4\n",
            "  [d360d2e6] + ChainRulesCore v1.18.0\n",
            "  [9e997f8a] + ChangesOfVariables v0.1.8\n",
            "  [fb6a15b2] + CloseOpenIntervals v0.1.12\n",
            "  [34f1f09b] + ClusterManagers v0.4.5\n",
            "  [bbf7d656] + CommonSubexpressions v0.3.0\n",
            "  [34da2185] + Compat v4.10.0\n",
            "  [187b0558] + ConstructionBase v1.5.4\n",
            "  [adafc99b] + CpuId v0.3.1\n",
            "  [9a962f9c] + DataAPI v1.15.0\n",
            "  [864edb3b] + DataStructures v0.18.15\n",
            "  [163ba53b] + DiffResults v1.1.0\n",
            "  [b552c78f] + DiffRules v1.15.1\n",
            "  [ffbed154] + DocStringExtensions v0.9.3\n",
            "  [a40a106e] + DynamicExpressions v0.13.1\n",
            "⌅ [06fc5a27] + DynamicQuantities v0.6.3\n",
            "  [1a297f60] + FillArrays v1.7.0\n",
            "  [6a86dc24] + FiniteDiff v2.21.1\n",
            "  [f6369f11] + ForwardDiff v0.10.36\n",
            "  [3e5b6fbb] + HostCPUFeatures v0.1.16\n",
            "  [615f187c] + IfElse v0.1.1\n",
            "  [3587e190] + InverseFunctions v0.1.12\n",
            "  [92d709cd] + IrrationalConstants v0.2.2\n",
            "  [692b3bcd] + JLLWrappers v1.5.0\n",
            "  [10f19ff3] + LayoutPointers v0.1.15\n",
            "  [d3d80556] + LineSearches v7.2.0\n",
            "  [2ab3a3ac] + LogExpFunctions v0.3.26\n",
            "  [bdcacae8] + LoopVectorization v0.12.166\n",
            "  [30fc2ffe] + LossFunctions v0.11.1\n",
            "  [e80e1ace] + MLJModelInterface v1.9.3\n",
            "  [d125e4d3] + ManualMemory v0.1.8\n",
            "  [e1d29d7a] + Missings v1.1.0\n",
            "  [d41bc354] + NLSolversBase v7.8.3\n",
            "  [77ba4419] + NaNMath v1.0.2\n",
            "  [6fe1bfb0] + OffsetArrays v1.12.10\n",
            "⌅ [429524aa] + Optim v1.7.6\n",
            "  [bac558e1] + OrderedCollections v1.6.2\n",
            "  [65ce6f38] + PackageExtensionCompat v1.0.2\n",
            "  [d96e819e] + Parameters v0.12.3\n",
            "  [1d0040c9] + PolyesterWeave v0.2.1\n",
            "  [85a6dd25] + PositiveFactorizations v0.2.4\n",
            "  [49802e3a] + ProgressBars v1.5.1\n",
            "  [189a3867] + Reexport v1.2.2\n",
            "  [ae029012] + Requires v1.3.0\n",
            "  [94e857df] + SIMDTypes v0.1.0\n",
            "  [476501e8] + SLEEFPirates v0.6.42\n",
            "  [30f210dd] + ScientificTypesBase v3.0.0\n",
            "  [efcf1570] + Setfield v1.1.1\n",
            "  [a2af1166] + SortingAlgorithms v1.2.0\n",
            "  [276daf66] + SpecialFunctions v2.3.1\n",
            "  [aedffcd0] + Static v0.8.8\n",
            "  [0d7ed370] + StaticArrayInterface v1.4.1\n",
            "  [90137ffa] + StaticArrays v1.6.5\n",
            "  [1e83bf80] + StaticArraysCore v1.4.2\n",
            "  [64bff920] + StatisticalTraits v3.2.0\n",
            "  [82ae8749] + StatsAPI v1.7.0\n",
            "  [2913bbd2] + StatsBase v0.34.2\n",
            "  [8254be44] + SymbolicRegression v0.22.4 `https://github.com/MilesCranmer/SymbolicRegression.jl#v0.22.4`\n",
            "  [8290d209] + ThreadingUtilities v0.5.2\n",
            "  [410a4b4d] + Tricks v0.1.8\n",
            "  [3a884ed6] + UnPack v1.0.2\n",
            "  [3d5dd08c] + VectorizationBase v0.21.64\n",
            "  [efe28fd5] + OpenSpecFun_jll v0.5.5+0\n",
            "  [8ba89e20] + Distributed\n",
            "  [9fa8497b] + Future\n",
            "  [b77e0a4c] + InteractiveUtils\n",
            "  [76f85450] + LibGit2\n",
            "  [56ddb016] + Logging\n",
            "  [44cfe95a] + Pkg v1.8.0\n",
            "  [3fa0cd96] + REPL\n",
            "  [6462fe0b] + Sockets\n",
            "  [2f01184e] + SparseArrays\n",
            "  [10745b16] + Statistics\n",
            "  [4607b0f0] + SuiteSparse\n",
            "  [a4e569a6] + Tar v1.10.1\n",
            "  [8dfed614] + Test\n",
            "  [05823500] + OpenLibm_jll v0.8.1+0\n",
            "  [3f19e933] + p7zip_jll v17.4.0+0\n",
            "        Info Packages marked with ⌅ have new versions available but compatibility constraints restrict them from upgrading. To see why use `status --outdated -m`\n",
            "/usr/local/lib/python3.10/dist-packages/pysr/julia_helpers.py:118: UserWarning: It is recommended to restart Python after installing PySR's dependencies, so that the Julia environment is properly initialized.\n",
            "  warnings.warn(\n"
          ]
        }
      ]
    },
    {
      "cell_type": "code",
      "source": [
        "import sympy\n",
        "import numpy as np\n",
        "import math\n",
        "from matplotlib import pyplot as plt\n",
        "from pysr import PySRRegressor\n",
        "from sklearn.model_selection import train_test_split"
      ],
      "metadata": {
        "id": "a2X4XJ-Wz1x7"
      },
      "execution_count": 10,
      "outputs": []
    },
    {
      "cell_type": "code",
      "source": [
        "x = np.arange(1,61)\n",
        "y = [(i**2)/(math.sin(i)) for i in range(1,61)]"
      ],
      "metadata": {
        "id": "1LJEDTmCz10s"
      },
      "execution_count": 18,
      "outputs": []
    },
    {
      "cell_type": "code",
      "source": [
        "x"
      ],
      "metadata": {
        "colab": {
          "base_uri": "https://localhost:8080/"
        },
        "id": "GXLLsyzOz16L",
        "outputId": "8943cbd3-74cb-44b6-d48b-0078ffd69dc9"
      },
      "execution_count": 19,
      "outputs": [
        {
          "output_type": "execute_result",
          "data": {
            "text/plain": [
              "array([ 1,  2,  3,  4,  5,  6,  7,  8,  9, 10, 11, 12, 13, 14, 15, 16, 17,\n",
              "       18, 19, 20, 21, 22, 23, 24, 25, 26, 27, 28, 29, 30, 31, 32, 33, 34,\n",
              "       35, 36, 37, 38, 39, 40, 41, 42, 43, 44, 45, 46, 47, 48, 49, 50, 51,\n",
              "       52, 53, 54, 55, 56, 57, 58, 59, 60])"
            ]
          },
          "metadata": {},
          "execution_count": 19
        }
      ]
    },
    {
      "cell_type": "code",
      "source": [
        "y[:10] # sample data"
      ],
      "metadata": {
        "colab": {
          "base_uri": "https://localhost:8080/"
        },
        "id": "nx9uINZ2z19K",
        "outputId": "abdf308c-b478-4c17-9286-e16642294a02"
      },
      "execution_count": 20,
      "outputs": [
        {
          "output_type": "execute_result",
          "data": {
            "text/plain": [
              "[1.1883951057781212,\n",
              " 4.399000681178466,\n",
              " 63.77550656163468,\n",
              " -21.141579340974438,\n",
              " -26.070880319285145,\n",
              " -128.8403837011586,\n",
              " 74.58295206562279,\n",
              " 64.68839797760621,\n",
              " 196.54541812771114,\n",
              " -183.81639608896657]"
            ]
          },
          "metadata": {},
          "execution_count": 20
        }
      ]
    },
    {
      "cell_type": "code",
      "source": [
        "x = np.expand_dims(x,axis=1)\n",
        "y = np.expand_dims(y,axis=1)"
      ],
      "metadata": {
        "id": "bVwnm0mw2gTI"
      },
      "execution_count": 21,
      "outputs": []
    },
    {
      "cell_type": "code",
      "source": [
        "model = PySRRegressor(\n",
        "    binary_operators=['+', '-', '*', '/', '^'],\n",
        "    unary_operators=['square', 'cube', 'exp', 'log', 'log10', 'log2', 'sqrt', 'sin', 'cos', 'tan'],\n",
        "    niterations=600,\n",
        "    verbosity=0\n",
        ")"
      ],
      "metadata": {
        "id": "c6ztviDRz2AM"
      },
      "execution_count": 24,
      "outputs": []
    },
    {
      "cell_type": "code",
      "source": [
        "model.fit(x,y)"
      ],
      "metadata": {
        "colab": {
          "base_uri": "https://localhost:8080/",
          "height": 320
        },
        "id": "1cAcauMiz2DP",
        "outputId": "6a3075e5-0e7a-4d53-821f-35f5ff5b0acb"
      },
      "execution_count": 25,
      "outputs": [
        {
          "output_type": "stream",
          "name": "stderr",
          "text": [
            "/usr/local/lib/python3.10/dist-packages/pysr/sr.py:1346: UserWarning: Note: it looks like you are running in Jupyter. The progress bar will be turned off.\n",
            "  warnings.warn(\n",
            "/usr/local/lib/python3.10/dist-packages/pysr/julia_helpers.py:231: UserWarning: Julia has already started. The new Julia options {'threads': 2} will be ignored.\n",
            "  warnings.warn(\n",
            "/usr/local/lib/python3.10/dist-packages/pysr/sr.py:109: UserWarning: You are using the `^` operator, but have not set up `constraints` for it. This may lead to overly complex expressions. One typical constraint is to use `constraints={..., '^': (-1, 1)}`, which will allow arbitrary-complexity base (-1) but only powers such as a constant or variable (1). For more tips, please see https://astroautomata.com/PySR/tuning/\n",
            "  warnings.warn(\n"
          ]
        },
        {
          "output_type": "execute_result",
          "data": {
            "text/plain": [
              "PySRRegressor.equations_ = [\n",
              "\t   pick      score                equation          loss  complexity\n",
              "\t0         0.000000                919.6537  2.657211e+08           1\n",
              "\t1         0.009989              square(x0)  2.630800e+08           2\n",
              "\t2         0.000190        (x0 ^ 2.0321984)  2.630299e+08           3\n",
              "\t3         0.983833    (784.6971 / sin(x0))  9.834036e+07           4\n",
              "\t4  >>>>  36.579118  (square(x0) / sin(x0))  1.278271e-08           5\n",
              "]"
            ],
            "text/html": [
              "<style>#sk-container-id-3 {color: black;background-color: white;}#sk-container-id-3 pre{padding: 0;}#sk-container-id-3 div.sk-toggleable {background-color: white;}#sk-container-id-3 label.sk-toggleable__label {cursor: pointer;display: block;width: 100%;margin-bottom: 0;padding: 0.3em;box-sizing: border-box;text-align: center;}#sk-container-id-3 label.sk-toggleable__label-arrow:before {content: \"▸\";float: left;margin-right: 0.25em;color: #696969;}#sk-container-id-3 label.sk-toggleable__label-arrow:hover:before {color: black;}#sk-container-id-3 div.sk-estimator:hover label.sk-toggleable__label-arrow:before {color: black;}#sk-container-id-3 div.sk-toggleable__content {max-height: 0;max-width: 0;overflow: hidden;text-align: left;background-color: #f0f8ff;}#sk-container-id-3 div.sk-toggleable__content pre {margin: 0.2em;color: black;border-radius: 0.25em;background-color: #f0f8ff;}#sk-container-id-3 input.sk-toggleable__control:checked~div.sk-toggleable__content {max-height: 200px;max-width: 100%;overflow: auto;}#sk-container-id-3 input.sk-toggleable__control:checked~label.sk-toggleable__label-arrow:before {content: \"▾\";}#sk-container-id-3 div.sk-estimator input.sk-toggleable__control:checked~label.sk-toggleable__label {background-color: #d4ebff;}#sk-container-id-3 div.sk-label input.sk-toggleable__control:checked~label.sk-toggleable__label {background-color: #d4ebff;}#sk-container-id-3 input.sk-hidden--visually {border: 0;clip: rect(1px 1px 1px 1px);clip: rect(1px, 1px, 1px, 1px);height: 1px;margin: -1px;overflow: hidden;padding: 0;position: absolute;width: 1px;}#sk-container-id-3 div.sk-estimator {font-family: monospace;background-color: #f0f8ff;border: 1px dotted black;border-radius: 0.25em;box-sizing: border-box;margin-bottom: 0.5em;}#sk-container-id-3 div.sk-estimator:hover {background-color: #d4ebff;}#sk-container-id-3 div.sk-parallel-item::after {content: \"\";width: 100%;border-bottom: 1px solid gray;flex-grow: 1;}#sk-container-id-3 div.sk-label:hover label.sk-toggleable__label {background-color: #d4ebff;}#sk-container-id-3 div.sk-serial::before {content: \"\";position: absolute;border-left: 1px solid gray;box-sizing: border-box;top: 0;bottom: 0;left: 50%;z-index: 0;}#sk-container-id-3 div.sk-serial {display: flex;flex-direction: column;align-items: center;background-color: white;padding-right: 0.2em;padding-left: 0.2em;position: relative;}#sk-container-id-3 div.sk-item {position: relative;z-index: 1;}#sk-container-id-3 div.sk-parallel {display: flex;align-items: stretch;justify-content: center;background-color: white;position: relative;}#sk-container-id-3 div.sk-item::before, #sk-container-id-3 div.sk-parallel-item::before {content: \"\";position: absolute;border-left: 1px solid gray;box-sizing: border-box;top: 0;bottom: 0;left: 50%;z-index: -1;}#sk-container-id-3 div.sk-parallel-item {display: flex;flex-direction: column;z-index: 1;position: relative;background-color: white;}#sk-container-id-3 div.sk-parallel-item:first-child::after {align-self: flex-end;width: 50%;}#sk-container-id-3 div.sk-parallel-item:last-child::after {align-self: flex-start;width: 50%;}#sk-container-id-3 div.sk-parallel-item:only-child::after {width: 0;}#sk-container-id-3 div.sk-dashed-wrapped {border: 1px dashed gray;margin: 0 0.4em 0.5em 0.4em;box-sizing: border-box;padding-bottom: 0.4em;background-color: white;}#sk-container-id-3 div.sk-label label {font-family: monospace;font-weight: bold;display: inline-block;line-height: 1.2em;}#sk-container-id-3 div.sk-label-container {text-align: center;}#sk-container-id-3 div.sk-container {/* jupyter's `normalize.less` sets `[hidden] { display: none; }` but bootstrap.min.css set `[hidden] { display: none !important; }` so we also need the `!important` here to be able to override the default hidden behavior on the sphinx rendered scikit-learn.org. See: https://github.com/scikit-learn/scikit-learn/issues/21755 */display: inline-block !important;position: relative;}#sk-container-id-3 div.sk-text-repr-fallback {display: none;}</style><div id=\"sk-container-id-3\" class=\"sk-top-container\"><div class=\"sk-text-repr-fallback\"><pre>PySRRegressor.equations_ = [\n",
              "\t   pick      score                equation          loss  complexity\n",
              "\t0         0.000000                919.6537  2.657211e+08           1\n",
              "\t1         0.009989              square(x0)  2.630800e+08           2\n",
              "\t2         0.000190        (x0 ^ 2.0321984)  2.630299e+08           3\n",
              "\t3         0.983833    (784.6971 / sin(x0))  9.834036e+07           4\n",
              "\t4  &gt;&gt;&gt;&gt;  36.579118  (square(x0) / sin(x0))  1.278271e-08           5\n",
              "]</pre><b>In a Jupyter environment, please rerun this cell to show the HTML representation or trust the notebook. <br />On GitHub, the HTML representation is unable to render, please try loading this page with nbviewer.org.</b></div><div class=\"sk-container\" hidden><div class=\"sk-item\"><div class=\"sk-estimator sk-toggleable\"><input class=\"sk-toggleable__control sk-hidden--visually\" id=\"sk-estimator-id-3\" type=\"checkbox\" checked><label for=\"sk-estimator-id-3\" class=\"sk-toggleable__label sk-toggleable__label-arrow\">PySRRegressor</label><div class=\"sk-toggleable__content\"><pre>PySRRegressor.equations_ = [\n",
              "\t   pick      score                equation          loss  complexity\n",
              "\t0         0.000000                919.6537  2.657211e+08           1\n",
              "\t1         0.009989              square(x0)  2.630800e+08           2\n",
              "\t2         0.000190        (x0 ^ 2.0321984)  2.630299e+08           3\n",
              "\t3         0.983833    (784.6971 / sin(x0))  9.834036e+07           4\n",
              "\t4  &gt;&gt;&gt;&gt;  36.579118  (square(x0) / sin(x0))  1.278271e-08           5\n",
              "]</pre></div></div></div></div></div>"
            ]
          },
          "metadata": {},
          "execution_count": 25
        }
      ]
    },
    {
      "cell_type": "code",
      "source": [
        "model.sympy()"
      ],
      "metadata": {
        "colab": {
          "base_uri": "https://localhost:8080/",
          "height": 58
        },
        "id": "uaYM5DbDz2F8",
        "outputId": "7fe8d8d2-195d-4a83-8705-1eddd9b6afe2"
      },
      "execution_count": 27,
      "outputs": [
        {
          "output_type": "execute_result",
          "data": {
            "text/plain": [
              "x0**2/sin(x0)"
            ],
            "text/latex": "$\\displaystyle \\frac{x_{0}^{2}}{\\sin{\\left(x_{0} \\right)}}$"
          },
          "metadata": {},
          "execution_count": 27
        }
      ]
    },
    {
      "cell_type": "code",
      "source": [
        "for x0 in range(1,61):\n",
        "  res = (np.square(x0) / np.sin(x0))\n",
        "  print(res)"
      ],
      "metadata": {
        "colab": {
          "base_uri": "https://localhost:8080/"
        },
        "id": "_cmg55JAz2Iq",
        "outputId": "14e66483-ac75-406b-e3fd-bfffdef3885e"
      },
      "execution_count": 28,
      "outputs": [
        {
          "output_type": "stream",
          "name": "stdout",
          "text": [
            "1.1883951057781212\n",
            "4.399000681178466\n",
            "63.77550656163468\n",
            "-21.141579340974438\n",
            "-26.070880319285145\n",
            "-128.8403837011586\n",
            "74.58295206562279\n",
            "64.68839797760621\n",
            "196.54541812771114\n",
            "-183.81639608896657\n",
            "-121.0011850189703\n",
            "-268.36986208067117\n",
            "402.2209863876796\n",
            "197.85841370268653\n",
            "346.00062634669206\n",
            "-889.187394453742\n",
            "-300.60407109550243\n",
            "-431.4320934114428\n",
            "2408.6383834595395\n",
            "438.1423745632013\n",
            "527.0985811697185\n",
            "-54681.175871317406\n",
            "-625.1326455731445\n",
            "-636.0576004970698\n",
            "-4722.264719116218\n",
            "886.4894219909795\n",
            "762.2525602627533\n",
            "2893.9950116866034\n",
            "-1267.2650086235103\n",
            "-910.9020177631602\n",
            "-2378.491239922935\n",
            "1857.0011840815882\n",
            "1089.0959928039815\n",
            "2184.913682353533\n",
            "-2860.9284944705396\n",
            "-1306.742925099414\n",
            "-2127.302065005298\n",
            "4872.311384318394\n",
            "1578.1357969186947\n",
            "2147.324842538927\n",
            "-10597.476468319872\n",
            "-1924.668333234187\n",
            "-2222.9576172952034\n",
            "109366.63602807444\n",
            "2379.823260349892\n",
            "2346.4485935274593\n",
            "17876.05549593814\n",
            "-2999.0055589513977\n",
            "-2517.4241906989605\n",
            "-9528.352144680262\n",
            "3880.7621239810446\n",
            "2740.649077538715\n",
            "7094.775360216262\n",
            "-5218.427250843152\n",
            "-3025.7407819533328\n",
            "-6012.834770620215\n",
            "7449.020034078515\n",
            "3388.1485268930237\n",
            "5466.9266809439\n",
            "-11810.612067854285\n"
          ]
        }
      ]
    },
    {
      "cell_type": "code",
      "source": [],
      "metadata": {
        "id": "TfL9zuTFz2Lf"
      },
      "execution_count": null,
      "outputs": []
    },
    {
      "cell_type": "code",
      "source": [],
      "metadata": {
        "id": "EQmBWlHBz2OS"
      },
      "execution_count": null,
      "outputs": []
    },
    {
      "cell_type": "code",
      "source": [],
      "metadata": {
        "id": "6rcpB11nz2Rg"
      },
      "execution_count": null,
      "outputs": []
    }
  ]
}