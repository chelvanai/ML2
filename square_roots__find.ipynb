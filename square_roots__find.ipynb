{
  "nbformat": 4,
  "nbformat_minor": 0,
  "metadata": {
    "colab": {
      "provenance": []
    },
    "kernelspec": {
      "name": "python3",
      "display_name": "Python 3"
    },
    "language_info": {
      "name": "python"
    }
  },
  "cells": [
    {
      "cell_type": "code",
      "execution_count": 1,
      "metadata": {
        "id": "Ju381LYYMLim"
      },
      "outputs": [],
      "source": [
        "import torch\n",
        "import torch.nn as nn\n",
        "import math"
      ]
    },
    {
      "cell_type": "code",
      "source": [
        "num_samples = 1000\n",
        "numbers = torch.randint(1, 1001, (num_samples, 1)).float()\n",
        "squares = torch.sqrt(numbers)"
      ],
      "metadata": {
        "id": "zxLCJL-zMSZz"
      },
      "execution_count": 2,
      "outputs": []
    },
    {
      "cell_type": "code",
      "source": [
        "numbers[0], squares[0] # sample data"
      ],
      "metadata": {
        "colab": {
          "base_uri": "https://localhost:8080/"
        },
        "id": "ZhKqKF5_MScj",
        "outputId": "ba2c464d-0bb6-44cb-939b-dce2b6658e2e"
      },
      "execution_count": 3,
      "outputs": [
        {
          "output_type": "execute_result",
          "data": {
            "text/plain": [
              "(tensor([332.]), tensor([18.2209]))"
            ]
          },
          "metadata": {},
          "execution_count": 3
        }
      ]
    },
    {
      "cell_type": "code",
      "source": [
        "class SqrtModel(nn.Module):\n",
        "    def __init__(self):\n",
        "        super(SqrtModel, self).__init__()\n",
        "        self.hidden = nn.Linear(1, 10)\n",
        "        self.relu = nn.ReLU()\n",
        "        self.out = nn.Linear(10, 1)\n",
        "\n",
        "    def forward(self, x):\n",
        "        x = torch.log1p(x)\n",
        "        x = self.hidden(x)\n",
        "        x = self.relu(x)\n",
        "        x = self.out(x)\n",
        "        return torch.exp(x)"
      ],
      "metadata": {
        "id": "c7FY61jYMSh2"
      },
      "execution_count": 6,
      "outputs": []
    },
    {
      "cell_type": "code",
      "source": [
        "model = SqrtModel()\n",
        "criterion = nn.MSELoss()\n",
        "optimizer = torch.optim.Adam(model.parameters(), lr=0.01)\n",
        "\n",
        "num_epochs = 1000\n",
        "for epoch in range(num_epochs):\n",
        "    outputs = model(numbers)\n",
        "    loss = criterion(outputs, squares)\n",
        "    optimizer.zero_grad()\n",
        "    loss.backward()\n",
        "    optimizer.step()\n",
        "\n",
        "    if (epoch+1) % 100 == 0:\n",
        "        print(f'Epoch {epoch+1}/{num_epochs}, Loss: {loss.item():.4f}')"
      ],
      "metadata": {
        "colab": {
          "base_uri": "https://localhost:8080/"
        },
        "id": "bqFxWfNlMSlD",
        "outputId": "6ad99757-78c3-407f-9387-22595c61dba3"
      },
      "execution_count": 7,
      "outputs": [
        {
          "output_type": "stream",
          "name": "stdout",
          "text": [
            "Epoch 100/1000, Loss: 0.6860\n",
            "Epoch 200/1000, Loss: 0.4673\n",
            "Epoch 300/1000, Loss: 0.2893\n",
            "Epoch 400/1000, Loss: 0.1616\n",
            "Epoch 500/1000, Loss: 0.0822\n",
            "Epoch 600/1000, Loss: 0.0386\n",
            "Epoch 700/1000, Loss: 0.0171\n",
            "Epoch 800/1000, Loss: 0.0077\n",
            "Epoch 900/1000, Loss: 0.0040\n",
            "Epoch 1000/1000, Loss: 0.0027\n"
          ]
        }
      ]
    },
    {
      "cell_type": "code",
      "source": [
        "def absolute_percentage_error(actual, predicted):\n",
        "    if actual == 0:\n",
        "        return 0\n",
        "    ape = abs((actual - predicted) / actual) * 100\n",
        "    return ape"
      ],
      "metadata": {
        "id": "NwyQRCIpOYJg"
      },
      "execution_count": 8,
      "outputs": []
    },
    {
      "cell_type": "code",
      "source": [
        "def find_square_root(model, number):\n",
        "    model.eval()\n",
        "    with torch.no_grad():\n",
        "        input_tensor = torch.tensor([[number]], dtype=torch.float32)\n",
        "        predicted_sqrt = model(input_tensor)\n",
        "        actual_sqrt = torch.sqrt(input_tensor)\n",
        "    return actual_sqrt.item(), predicted_sqrt.item()\n",
        "\n",
        "number = 845714\n",
        "actual_sqrt, predicted_sqrt = find_square_root(model, float(number))\n",
        "print(f\"Number: {number}, Predicted Square Root: {predicted_sqrt:.4f}, True Square Root: {actual_sqrt:.4f}\")\n",
        "error  = absolute_percentage_error(actual_sqrt, predicted_sqrt)\n",
        "print(f\"Absolute Percentage Error: {error:.2f}%\")"
      ],
      "metadata": {
        "colab": {
          "base_uri": "https://localhost:8080/"
        },
        "id": "2Y2ghhF0MSnW",
        "outputId": "45a3d104-9b9c-4fe9-bbe9-b334365203ef"
      },
      "execution_count": 10,
      "outputs": [
        {
          "output_type": "stream",
          "name": "stdout",
          "text": [
            "Number: 845714, Predicted Square Root: 918.8904, True Square Root: 919.6271\n",
            "Absolute Percentage Error: 0.08%\n"
          ]
        }
      ]
    },
    {
      "cell_type": "code",
      "source": [],
      "metadata": {
        "id": "GnqYlnLeMSqk"
      },
      "execution_count": null,
      "outputs": []
    },
    {
      "cell_type": "code",
      "source": [],
      "metadata": {
        "id": "ANmPwb78MSt0"
      },
      "execution_count": null,
      "outputs": []
    },
    {
      "cell_type": "code",
      "source": [],
      "metadata": {
        "id": "r8XuF3zRMSw2"
      },
      "execution_count": null,
      "outputs": []
    }
  ]
}